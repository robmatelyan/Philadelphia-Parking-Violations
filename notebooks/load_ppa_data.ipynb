{
 "cells": [
  {
   "cell_type": "markdown",
   "metadata": {},
   "source": [
    "# Load Parking Violations Data to SQLite\n",
    "\n",
    "#### In this notebook we will be loading information from our cleaned ppa csv file in order to create tables in our SQLite database."
   ]
  },
  {
   "cell_type": "code",
   "execution_count": 1,
   "metadata": {},
   "outputs": [],
   "source": [
    "import pandas as pd\n",
    "from sqlalchemy import create_engine, inspect, func\n",
    "from sqlalchemy.ext.declarative import declarative_base\n",
    "from sqlalchemy import Column, Integer, String, Float, DateTime"
   ]
  },
  {
   "cell_type": "code",
   "execution_count": 2,
   "metadata": {},
   "outputs": [],
   "source": [
    "# Sets an object to utilize the default declarative base in SQL Alchemy\n",
    "Base = declarative_base()"
   ]
  },
  {
   "cell_type": "code",
   "execution_count": 3,
   "metadata": {},
   "outputs": [],
   "source": [
    "# Creates Classes which will serve as the anchor points for our Parking Table\n",
    "class Parking(Base):\n",
    "    __tablename__ = 'ppa'\n",
    "    anon_ticket_number = Column(Integer, primary_key=True)\n",
    "    issue_datetime = Column(DateTime)\n",
    "    state = Column(String(20))\n",
    "    anon_plate_id = Column(String(50))\n",
    "    location = Column(String(250))\n",
    "    violation_desc = Column(String(100))\n",
    "    fine = Column(Integer)\n",
    "    issuing_agency = Column(String(100))\n",
    "    lat = Column(Float)\n",
    "    lon = Column(Float)\n",
    "    zip_code = Column(String(100))\n",
    "    month = Column(Integer)\n",
    "    day = Column(Integer)\n",
    "    hour = Column(Integer)\n",
    "    ymdh = Column(String(100))"
   ]
  },
  {
   "cell_type": "code",
   "execution_count": 4,
   "metadata": {},
   "outputs": [],
   "source": [
    "# Create Database Connection\n",
    "database_path = '../flask_app/static/data/data_all.sqlite'\n",
    "engine = create_engine(f'sqlite:///{database_path}')\n",
    "conn = engine.connect()"
   ]
  },
  {
   "cell_type": "code",
   "execution_count": 5,
   "metadata": {},
   "outputs": [],
   "source": [
    "# Create (if not already in existence) the table associated with our classes.\n",
    "Base.metadata.create_all(engine)\n",
    "\n",
    "# Use this to clear out the db (if applicable)\n",
    "# Base.metadata.drop_all(engine)"
   ]
  },
  {
   "cell_type": "code",
   "execution_count": 6,
   "metadata": {},
   "outputs": [
    {
     "data": {
      "text/plain": [
       "['ppa']"
      ]
     },
     "execution_count": 6,
     "metadata": {},
     "output_type": "execute_result"
    }
   ],
   "source": [
    "# Check for tables\n",
    "engine.table_names()"
   ]
  },
  {
   "cell_type": "code",
   "execution_count": 7,
   "metadata": {
    "scrolled": true
   },
   "outputs": [
    {
     "data": {
      "text/html": [
       "<div>\n",
       "<style scoped>\n",
       "    .dataframe tbody tr th:only-of-type {\n",
       "        vertical-align: middle;\n",
       "    }\n",
       "\n",
       "    .dataframe tbody tr th {\n",
       "        vertical-align: top;\n",
       "    }\n",
       "\n",
       "    .dataframe thead th {\n",
       "        text-align: right;\n",
       "    }\n",
       "</style>\n",
       "<table border=\"1\" class=\"dataframe\">\n",
       "  <thead>\n",
       "    <tr style=\"text-align: right;\">\n",
       "      <th></th>\n",
       "      <th>anon_ticket_number</th>\n",
       "      <th>issue_datetime</th>\n",
       "      <th>state</th>\n",
       "      <th>anon_plate_id</th>\n",
       "      <th>location</th>\n",
       "      <th>violation_desc</th>\n",
       "      <th>fine</th>\n",
       "      <th>issuing_agency</th>\n",
       "      <th>lat</th>\n",
       "      <th>lon</th>\n",
       "      <th>zip_code</th>\n",
       "      <th>month</th>\n",
       "      <th>day</th>\n",
       "      <th>hour</th>\n",
       "      <th>ymdh</th>\n",
       "    </tr>\n",
       "  </thead>\n",
       "  <tbody>\n",
       "    <tr>\n",
       "      <th>0</th>\n",
       "      <td>7695773</td>\n",
       "      <td>2017-01-01 00:00:00</td>\n",
       "      <td>PA</td>\n",
       "      <td>4340382</td>\n",
       "      <td>3131 N 7TH ST</td>\n",
       "      <td>HP RESERVED SPACE</td>\n",
       "      <td>301</td>\n",
       "      <td>POLICE</td>\n",
       "      <td>39.999414</td>\n",
       "      <td>-75.142332</td>\n",
       "      <td>19133</td>\n",
       "      <td>1</td>\n",
       "      <td>1</td>\n",
       "      <td>0</td>\n",
       "      <td>2017-01-01 00</td>\n",
       "    </tr>\n",
       "    <tr>\n",
       "      <th>1</th>\n",
       "      <td>7915128</td>\n",
       "      <td>2017-01-01 00:30:00</td>\n",
       "      <td>NJ</td>\n",
       "      <td>4420623</td>\n",
       "      <td>1747 N 17TH ST</td>\n",
       "      <td>PARKING PROHBITED</td>\n",
       "      <td>41</td>\n",
       "      <td>POLICE</td>\n",
       "      <td>39.980069</td>\n",
       "      <td>-75.162530</td>\n",
       "      <td>19121</td>\n",
       "      <td>1</td>\n",
       "      <td>1</td>\n",
       "      <td>0</td>\n",
       "      <td>2017-01-01 00</td>\n",
       "    </tr>\n",
       "  </tbody>\n",
       "</table>\n",
       "</div>"
      ],
      "text/plain": [
       "   anon_ticket_number       issue_datetime state  anon_plate_id  \\\n",
       "0             7695773  2017-01-01 00:00:00    PA        4340382   \n",
       "1             7915128  2017-01-01 00:30:00    NJ        4420623   \n",
       "\n",
       "         location     violation_desc  fine issuing_agency        lat  \\\n",
       "0   3131 N 7TH ST  HP RESERVED SPACE   301         POLICE  39.999414   \n",
       "1  1747 N 17TH ST  PARKING PROHBITED    41         POLICE  39.980069   \n",
       "\n",
       "         lon  zip_code  month  day  hour           ymdh  \n",
       "0 -75.142332     19133      1    1     0  2017-01-01 00  \n",
       "1 -75.162530     19121      1    1     0  2017-01-01 00  "
      ]
     },
     "execution_count": 7,
     "metadata": {},
     "output_type": "execute_result"
    }
   ],
   "source": [
    "# Read df\n",
    "parking_df = pd.read_csv('../resources/cleaned_data/cleaned_reduced_parking_violations_2017.csv')\n",
    "parking_df.head(2)"
   ]
  },
  {
   "cell_type": "code",
   "execution_count": 8,
   "metadata": {},
   "outputs": [],
   "source": [
    "# Use pandas to load csv converted df into our sqlite database\n",
    "parking_df.to_sql(name='ppa', con=engine, if_exists='append', index=False)"
   ]
  },
  {
   "cell_type": "code",
   "execution_count": 9,
   "metadata": {},
   "outputs": [
    {
     "data": {
      "text/html": [
       "<div>\n",
       "<style scoped>\n",
       "    .dataframe tbody tr th:only-of-type {\n",
       "        vertical-align: middle;\n",
       "    }\n",
       "\n",
       "    .dataframe tbody tr th {\n",
       "        vertical-align: top;\n",
       "    }\n",
       "\n",
       "    .dataframe thead th {\n",
       "        text-align: right;\n",
       "    }\n",
       "</style>\n",
       "<table border=\"1\" class=\"dataframe\">\n",
       "  <thead>\n",
       "    <tr style=\"text-align: right;\">\n",
       "      <th></th>\n",
       "      <th>anon_ticket_number</th>\n",
       "      <th>issue_datetime</th>\n",
       "      <th>state</th>\n",
       "      <th>anon_plate_id</th>\n",
       "      <th>location</th>\n",
       "      <th>violation_desc</th>\n",
       "      <th>fine</th>\n",
       "      <th>issuing_agency</th>\n",
       "      <th>lat</th>\n",
       "      <th>lon</th>\n",
       "      <th>zip_code</th>\n",
       "      <th>month</th>\n",
       "      <th>day</th>\n",
       "      <th>hour</th>\n",
       "      <th>ymdh</th>\n",
       "    </tr>\n",
       "  </thead>\n",
       "  <tbody>\n",
       "    <tr>\n",
       "      <th>0</th>\n",
       "      <td>7689050</td>\n",
       "      <td>2017-01-09 12:29:00</td>\n",
       "      <td>PA</td>\n",
       "      <td>1975860</td>\n",
       "      <td>8419 GERMANTOWN AVE</td>\n",
       "      <td>METER EXPIRED</td>\n",
       "      <td>26</td>\n",
       "      <td>PPA</td>\n",
       "      <td>40.075568</td>\n",
       "      <td>-75.205661</td>\n",
       "      <td>19118</td>\n",
       "      <td>1</td>\n",
       "      <td>9</td>\n",
       "      <td>12</td>\n",
       "      <td>2017-01-09 12</td>\n",
       "    </tr>\n",
       "    <tr>\n",
       "      <th>1</th>\n",
       "      <td>7689051</td>\n",
       "      <td>2017-01-10 14:34:00</td>\n",
       "      <td>FL</td>\n",
       "      <td>4338399</td>\n",
       "      <td>1800 SOUTH ST</td>\n",
       "      <td>METER EXPIRED CC</td>\n",
       "      <td>36</td>\n",
       "      <td>PPA</td>\n",
       "      <td>39.944543</td>\n",
       "      <td>-75.172694</td>\n",
       "      <td>19146</td>\n",
       "      <td>1</td>\n",
       "      <td>10</td>\n",
       "      <td>14</td>\n",
       "      <td>2017-01-10 14</td>\n",
       "    </tr>\n",
       "    <tr>\n",
       "      <th>2</th>\n",
       "      <td>7689052</td>\n",
       "      <td>2017-01-10 14:53:00</td>\n",
       "      <td>PA</td>\n",
       "      <td>4338400</td>\n",
       "      <td>1430 SOUTH ST</td>\n",
       "      <td>METER EXPIRED CC</td>\n",
       "      <td>36</td>\n",
       "      <td>PPA</td>\n",
       "      <td>39.943758</td>\n",
       "      <td>-75.166379</td>\n",
       "      <td>19146</td>\n",
       "      <td>1</td>\n",
       "      <td>10</td>\n",
       "      <td>14</td>\n",
       "      <td>2017-01-10 14</td>\n",
       "    </tr>\n",
       "    <tr>\n",
       "      <th>3</th>\n",
       "      <td>7689053</td>\n",
       "      <td>2017-01-10 14:55:00</td>\n",
       "      <td>PA</td>\n",
       "      <td>4338400</td>\n",
       "      <td>1430 SOUTH ST</td>\n",
       "      <td>EXPIRED INSPECTION</td>\n",
       "      <td>41</td>\n",
       "      <td>PPA</td>\n",
       "      <td>39.943758</td>\n",
       "      <td>-75.166379</td>\n",
       "      <td>19146</td>\n",
       "      <td>1</td>\n",
       "      <td>10</td>\n",
       "      <td>14</td>\n",
       "      <td>2017-01-10 14</td>\n",
       "    </tr>\n",
       "    <tr>\n",
       "      <th>4</th>\n",
       "      <td>7689055</td>\n",
       "      <td>2017-01-10 12:04:00</td>\n",
       "      <td>PA</td>\n",
       "      <td>4338402</td>\n",
       "      <td>1 S 36TH ST</td>\n",
       "      <td>METER EXPIRED CC</td>\n",
       "      <td>36</td>\n",
       "      <td>PPA</td>\n",
       "      <td>39.955794</td>\n",
       "      <td>-75.194231</td>\n",
       "      <td>19104</td>\n",
       "      <td>1</td>\n",
       "      <td>10</td>\n",
       "      <td>12</td>\n",
       "      <td>2017-01-10 12</td>\n",
       "    </tr>\n",
       "  </tbody>\n",
       "</table>\n",
       "</div>"
      ],
      "text/plain": [
       "   anon_ticket_number       issue_datetime state anon_plate_id  \\\n",
       "0             7689050  2017-01-09 12:29:00    PA       1975860   \n",
       "1             7689051  2017-01-10 14:34:00    FL       4338399   \n",
       "2             7689052  2017-01-10 14:53:00    PA       4338400   \n",
       "3             7689053  2017-01-10 14:55:00    PA       4338400   \n",
       "4             7689055  2017-01-10 12:04:00    PA       4338402   \n",
       "\n",
       "              location      violation_desc  fine issuing_agency        lat  \\\n",
       "0  8419 GERMANTOWN AVE       METER EXPIRED    26            PPA  40.075568   \n",
       "1        1800 SOUTH ST    METER EXPIRED CC    36            PPA  39.944543   \n",
       "2        1430 SOUTH ST    METER EXPIRED CC    36            PPA  39.943758   \n",
       "3        1430 SOUTH ST  EXPIRED INSPECTION    41            PPA  39.943758   \n",
       "4          1 S 36TH ST    METER EXPIRED CC    36            PPA  39.955794   \n",
       "\n",
       "         lon zip_code  month  day  hour           ymdh  \n",
       "0 -75.205661    19118      1    9    12  2017-01-09 12  \n",
       "1 -75.172694    19146      1   10    14  2017-01-10 14  \n",
       "2 -75.166379    19146      1   10    14  2017-01-10 14  \n",
       "3 -75.166379    19146      1   10    14  2017-01-10 14  \n",
       "4 -75.194231    19104      1   10    12  2017-01-10 12  "
      ]
     },
     "execution_count": 9,
     "metadata": {},
     "output_type": "execute_result"
    }
   ],
   "source": [
    "# Check the data is successfully loaded in SQLite by performing a \"select all\" query\n",
    "check_ppa_info = pd.read_sql_query('select * from ppa', con=engine)\n",
    "check_ppa_info.head()"
   ]
  },
  {
   "cell_type": "code",
   "execution_count": 10,
   "metadata": {},
   "outputs": [
    {
     "name": "stdout",
     "output_type": "stream",
     "text": [
      "430131\n"
     ]
    }
   ],
   "source": [
    "# Check row count again...\n",
    "print(len(check_ppa_info))"
   ]
  },
  {
   "cell_type": "markdown",
   "metadata": {},
   "source": [
    "This row count aligns with our reduced dataset (after we randomly selected 30%)."
   ]
  },
  {
   "cell_type": "code",
   "execution_count": null,
   "metadata": {},
   "outputs": [],
   "source": []
  }
 ],
 "metadata": {
  "kernelspec": {
   "display_name": "Python [conda env:PythonData] *",
   "language": "python",
   "name": "conda-env-PythonData-py"
  },
  "language_info": {
   "codemirror_mode": {
    "name": "ipython",
    "version": 3
   },
   "file_extension": ".py",
   "mimetype": "text/x-python",
   "name": "python",
   "nbconvert_exporter": "python",
   "pygments_lexer": "ipython3",
   "version": "3.6.10"
  }
 },
 "nbformat": 4,
 "nbformat_minor": 4
}

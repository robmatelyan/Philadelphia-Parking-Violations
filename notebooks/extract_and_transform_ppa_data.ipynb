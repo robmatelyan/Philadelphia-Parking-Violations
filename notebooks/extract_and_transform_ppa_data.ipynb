{
 "cells": [
  {
   "cell_type": "markdown",
   "id": "certified-pickup",
   "metadata": {},
   "source": [
    "# Extract and Transform Parking Violations Data\n",
    "\n",
    "#### In this notebook we will be extracting information from an API route and save a csv file in order to build it into our sqlite database.\n",
    "\n",
    "1. Data source from PPA (Philadelphia Parking Authority): [OpenDataPhilly](https://www.opendataphilly.org/dataset/parking-violations)\n",
    "2. API Documentation: [API Explorer](https://cityofphiladelphia.github.io/carto-api-explorer/#parking_violations)"
   ]
  },
  {
   "cell_type": "code",
   "execution_count": 1,
   "id": "australian-thing",
   "metadata": {},
   "outputs": [],
   "source": [
    "import pandas as pd\n",
    "import numpy as np\n",
    "import requests\n",
    "# import json\n",
    "import random\n",
    "from pprint import pprint"
   ]
  },
  {
   "cell_type": "code",
   "execution_count": 2,
   "id": "reverse-stupid",
   "metadata": {},
   "outputs": [],
   "source": [
    "# Create our url parameters. We will get all data from 2017\n",
    "datetime_begin = '2017-01-01'\n",
    "datetime_end = '2018-01-01'\n",
    "\n",
    "base_url = 'https://phl.carto.com/api/v2/sql?q=SELECT * FROM parking_violations'\n",
    "datetime_filter = f\"WHERE issue_datetime >= '{datetime_begin}' AND issue_datetime < '{datetime_end}'\""
   ]
  },
  {
   "cell_type": "code",
   "execution_count": 3,
   "id": "extensive-ministry",
   "metadata": {},
   "outputs": [
    {
     "name": "stdout",
     "output_type": "stream",
     "text": [
      "https://phl.carto.com/api/v2/sql?q=SELECT * FROM parking_violations WHERE issue_datetime >= '2017-01-01' AND issue_datetime < '2018-01-01'\n"
     ]
    }
   ],
   "source": [
    "# Build our query url\n",
    "query_url = f'{base_url} {datetime_filter}'\n",
    "print(query_url)"
   ]
  },
  {
   "cell_type": "code",
   "execution_count": 4,
   "id": "selective-shakespeare",
   "metadata": {
    "scrolled": true
   },
   "outputs": [
    {
     "name": "stdout",
     "output_type": "stream",
     "text": [
      "<Response [200]>\n"
     ]
    }
   ],
   "source": [
    "# Request data\n",
    "response = requests.get(query_url)\n",
    "data = response.json()\n",
    "rows = data['rows']\n",
    "print(response)"
   ]
  },
  {
   "cell_type": "code",
   "execution_count": 5,
   "id": "honey-tyler",
   "metadata": {
    "scrolled": true
   },
   "outputs": [],
   "source": [
    "# pprint(rows)"
   ]
  },
  {
   "cell_type": "code",
   "execution_count": 6,
   "id": "meaningful-letters",
   "metadata": {},
   "outputs": [
    {
     "data": {
      "text/plain": [
       "1722620"
      ]
     },
     "execution_count": 6,
     "metadata": {},
     "output_type": "execute_result"
    }
   ],
   "source": [
    "# Check the size of the data\n",
    "len(rows)"
   ]
  },
  {
   "cell_type": "code",
   "execution_count": 7,
   "id": "republican-aquarium",
   "metadata": {},
   "outputs": [
    {
     "name": "stdout",
     "output_type": "stream",
     "text": [
      "Retrieving Results for row #500000.\n",
      "Retrieving Results for row #1000000.\n",
      "Retrieving Results for row #1500000.\n",
      "------------------------\n",
      "------------------------\n",
      "Completed! All records successfully saved in the dataframe!\n"
     ]
    }
   ],
   "source": [
    "# Save the desired fields from the response json into our df columns\n",
    "\n",
    "# Lists to hold column values to be inserted into the df\n",
    "anon_ticket_number = []\n",
    "issue_datetime = []\n",
    "state = []\n",
    "anon_plate_id = []\n",
    "location = []\n",
    "violation_desc = []\n",
    "fine = []\n",
    "issuing_agency = []\n",
    "lat = []\n",
    "lon = []\n",
    "zip_code = []\n",
    "\n",
    "# Set a counter to track progress since the data is large...\n",
    "counter = 0\n",
    "\n",
    "for row in rows:\n",
    "     \n",
    "    counter += 1\n",
    "    if counter % 500000 == 0:\n",
    "        print(f'Retrieving Results for row #{counter}.')\n",
    "\n",
    "    try:\n",
    "        anon_ticket_number.append(row['anon_ticket_number'])\n",
    "        issue_datetime.append(row['issue_datetime'])\n",
    "        state.append(row['state'])\n",
    "        anon_plate_id.append(row['anon_plate_id'])\n",
    "        location.append(row['location'])\n",
    "        violation_desc.append(row['violation_desc'])\n",
    "        fine.append(row['fine'])\n",
    "        issuing_agency.append(row['issuing_agency'])\n",
    "        lat.append(row['lat'])\n",
    "        lon.append(row['lon'])\n",
    "        zip_code.append(row['zip_code'])\n",
    "    except (KeyError, IndexError):\n",
    "        print('Missing field/result... skipping.')\n",
    "    \n",
    "print('------------------------')\n",
    "print('------------------------')\n",
    "print('Completed! All records successfully saved in the dataframe!')\n",
    "\n",
    "ppa_df = pd.DataFrame({'anon_ticket_number': anon_ticket_number,\n",
    "                   'issue_datetime': issue_datetime,\n",
    "                   'state': state,\n",
    "                   'anon_plate_id': anon_plate_id,\n",
    "                   'location': location,\n",
    "                   'violation_desc': violation_desc,\n",
    "                   'fine': fine,\n",
    "                   'issuing_agency': issuing_agency,\n",
    "                   'lat': lat,\n",
    "                   'lon': lon,\n",
    "                   'zip_code': zip_code\n",
    "})"
   ]
  },
  {
   "cell_type": "code",
   "execution_count": 8,
   "id": "seasonal-diagram",
   "metadata": {},
   "outputs": [
    {
     "data": {
      "text/html": [
       "<div>\n",
       "<style scoped>\n",
       "    .dataframe tbody tr th:only-of-type {\n",
       "        vertical-align: middle;\n",
       "    }\n",
       "\n",
       "    .dataframe tbody tr th {\n",
       "        vertical-align: top;\n",
       "    }\n",
       "\n",
       "    .dataframe thead th {\n",
       "        text-align: right;\n",
       "    }\n",
       "</style>\n",
       "<table border=\"1\" class=\"dataframe\">\n",
       "  <thead>\n",
       "    <tr style=\"text-align: right;\">\n",
       "      <th></th>\n",
       "      <th>anon_ticket_number</th>\n",
       "      <th>issue_datetime</th>\n",
       "      <th>state</th>\n",
       "      <th>anon_plate_id</th>\n",
       "      <th>location</th>\n",
       "      <th>violation_desc</th>\n",
       "      <th>fine</th>\n",
       "      <th>issuing_agency</th>\n",
       "      <th>lat</th>\n",
       "      <th>lon</th>\n",
       "      <th>zip_code</th>\n",
       "    </tr>\n",
       "  </thead>\n",
       "  <tbody>\n",
       "    <tr>\n",
       "      <th>0</th>\n",
       "      <td>8979623</td>\n",
       "      <td>2017-12-06T12:29:00Z</td>\n",
       "      <td>PA</td>\n",
       "      <td>4728925</td>\n",
       "      <td>6053 CASTOR AVE</td>\n",
       "      <td>BUS ONLY ZONE</td>\n",
       "      <td>51</td>\n",
       "      <td>PPA</td>\n",
       "      <td>40.035503</td>\n",
       "      <td>-75.081110</td>\n",
       "      <td>19149</td>\n",
       "    </tr>\n",
       "    <tr>\n",
       "      <th>1</th>\n",
       "      <td>8979624</td>\n",
       "      <td>2017-10-16T18:03:00Z</td>\n",
       "      <td>PA</td>\n",
       "      <td>4728926</td>\n",
       "      <td>4300 CRESSON ST</td>\n",
       "      <td>STOPPING PROHIBITED</td>\n",
       "      <td>51</td>\n",
       "      <td>PPA</td>\n",
       "      <td>40.025712</td>\n",
       "      <td>-75.222495</td>\n",
       "      <td>19127</td>\n",
       "    </tr>\n",
       "    <tr>\n",
       "      <th>2</th>\n",
       "      <td>8979625</td>\n",
       "      <td>2017-11-02T22:09:00Z</td>\n",
       "      <td>PA</td>\n",
       "      <td>4728926</td>\n",
       "      <td>4300 CRESSON ST</td>\n",
       "      <td>OVER TIME LIMIT</td>\n",
       "      <td>26</td>\n",
       "      <td>PPA</td>\n",
       "      <td>40.025792</td>\n",
       "      <td>-75.222557</td>\n",
       "      <td>19127</td>\n",
       "    </tr>\n",
       "    <tr>\n",
       "      <th>3</th>\n",
       "      <td>8979626</td>\n",
       "      <td>2017-11-05T20:19:00Z</td>\n",
       "      <td>PA</td>\n",
       "      <td>4728926</td>\n",
       "      <td>4300 CRESSON ST</td>\n",
       "      <td>OVER TIME LIMIT</td>\n",
       "      <td>26</td>\n",
       "      <td>PPA</td>\n",
       "      <td>40.025898</td>\n",
       "      <td>-75.222708</td>\n",
       "      <td>19127</td>\n",
       "    </tr>\n",
       "    <tr>\n",
       "      <th>4</th>\n",
       "      <td>8979627</td>\n",
       "      <td>2017-11-11T13:53:00Z</td>\n",
       "      <td>NJ</td>\n",
       "      <td>4728927</td>\n",
       "      <td>200 N 11TH ST</td>\n",
       "      <td>METER EXPIRED CC</td>\n",
       "      <td>36</td>\n",
       "      <td>PPA</td>\n",
       "      <td>39.956063</td>\n",
       "      <td>-75.157375</td>\n",
       "      <td>19107</td>\n",
       "    </tr>\n",
       "  </tbody>\n",
       "</table>\n",
       "</div>"
      ],
      "text/plain": [
       "   anon_ticket_number        issue_datetime state anon_plate_id  \\\n",
       "0             8979623  2017-12-06T12:29:00Z    PA       4728925   \n",
       "1             8979624  2017-10-16T18:03:00Z    PA       4728926   \n",
       "2             8979625  2017-11-02T22:09:00Z    PA       4728926   \n",
       "3             8979626  2017-11-05T20:19:00Z    PA       4728926   \n",
       "4             8979627  2017-11-11T13:53:00Z    NJ       4728927   \n",
       "\n",
       "          location       violation_desc  fine issuing_agency        lat  \\\n",
       "0  6053 CASTOR AVE        BUS ONLY ZONE    51            PPA  40.035503   \n",
       "1  4300 CRESSON ST  STOPPING PROHIBITED    51            PPA  40.025712   \n",
       "2  4300 CRESSON ST      OVER TIME LIMIT    26            PPA  40.025792   \n",
       "3  4300 CRESSON ST      OVER TIME LIMIT    26            PPA  40.025898   \n",
       "4    200 N 11TH ST     METER EXPIRED CC    36            PPA  39.956063   \n",
       "\n",
       "         lon zip_code  \n",
       "0 -75.081110    19149  \n",
       "1 -75.222495    19127  \n",
       "2 -75.222557    19127  \n",
       "3 -75.222708    19127  \n",
       "4 -75.157375    19107  "
      ]
     },
     "execution_count": 8,
     "metadata": {},
     "output_type": "execute_result"
    }
   ],
   "source": [
    "ppa_df.head()"
   ]
  },
  {
   "cell_type": "code",
   "execution_count": 9,
   "id": "authentic-elevation",
   "metadata": {},
   "outputs": [
    {
     "data": {
      "text/plain": [
       "anon_ticket_number        0\n",
       "issue_datetime            0\n",
       "state                     0\n",
       "anon_plate_id             0\n",
       "location                  0\n",
       "violation_desc            0\n",
       "fine                      0\n",
       "issuing_agency            0\n",
       "lat                   67660\n",
       "lon                   67658\n",
       "zip_code                  0\n",
       "dtype: int64"
      ]
     },
     "execution_count": 9,
     "metadata": {},
     "output_type": "execute_result"
    }
   ],
   "source": [
    "# Check if there's any null values and how many\n",
    "ppa_df.isna().sum()"
   ]
  },
  {
   "cell_type": "markdown",
   "id": "simplified-riverside",
   "metadata": {},
   "source": [
    "##### There are a small number of rows without geo coordinates. We're comfortable to remove those rows as it's a small percentage compared with the overall dataset."
   ]
  },
  {
   "cell_type": "code",
   "execution_count": 10,
   "id": "pregnant-manor",
   "metadata": {},
   "outputs": [],
   "source": [
    "# Drop NaN\n",
    "ppa_df.dropna(axis=0, how='any', inplace=True)"
   ]
  },
  {
   "cell_type": "code",
   "execution_count": 11,
   "id": "actual-redhead",
   "metadata": {},
   "outputs": [],
   "source": [
    "# Check if there's any hidden null values (e.g. empty strings '' or all spaces '  ') and replace them with NaN if any\n",
    "ppa_df = ppa_df.replace(r'^\\s*$', np.nan, regex=True)"
   ]
  },
  {
   "cell_type": "code",
   "execution_count": 12,
   "id": "respiratory-floating",
   "metadata": {},
   "outputs": [
    {
     "data": {
      "text/plain": [
       "anon_ticket_number         0\n",
       "issue_datetime             0\n",
       "state                      4\n",
       "anon_plate_id              0\n",
       "location                  98\n",
       "violation_desc             0\n",
       "fine                       0\n",
       "issuing_agency             1\n",
       "lat                        0\n",
       "lon                        0\n",
       "zip_code              221187\n",
       "dtype: int64"
      ]
     },
     "execution_count": 12,
     "metadata": {},
     "output_type": "execute_result"
    }
   ],
   "source": [
    "# Check null values again and if there are more we will likely to drop them\n",
    "ppa_df.isna().sum()"
   ]
  },
  {
   "cell_type": "markdown",
   "id": "innocent-accommodation",
   "metadata": {},
   "source": [
    "##### Again a small number of rows have null values. We will drop them"
   ]
  },
  {
   "cell_type": "code",
   "execution_count": 13,
   "id": "final-module",
   "metadata": {},
   "outputs": [
    {
     "name": "stdout",
     "output_type": "stream",
     "text": [
      "1433770\n"
     ]
    }
   ],
   "source": [
    "# Drop additional NaN\n",
    "cleaned_df = ppa_df.dropna(axis=0, how='any')\n",
    "# Check row count again...\n",
    "print(len(cleaned_df))"
   ]
  },
  {
   "cell_type": "markdown",
   "id": "reduced-criticism",
   "metadata": {},
   "source": [
    "##### Make sure the data types are what we need them to be"
   ]
  },
  {
   "cell_type": "code",
   "execution_count": 14,
   "id": "hollywood-eligibility",
   "metadata": {},
   "outputs": [
    {
     "data": {
      "text/plain": [
       "anon_ticket_number      int64\n",
       "issue_datetime         object\n",
       "state                  object\n",
       "anon_plate_id          object\n",
       "location               object\n",
       "violation_desc         object\n",
       "fine                    int64\n",
       "issuing_agency         object\n",
       "lat                   float64\n",
       "lon                   float64\n",
       "zip_code               object\n",
       "dtype: object"
      ]
     },
     "execution_count": 14,
     "metadata": {},
     "output_type": "execute_result"
    }
   ],
   "source": [
    "# Check datatypes\n",
    "cleaned_df.dtypes"
   ]
  },
  {
   "cell_type": "code",
   "execution_count": 15,
   "id": "secondary-night",
   "metadata": {},
   "outputs": [
    {
     "name": "stderr",
     "output_type": "stream",
     "text": [
      "/Users/ZTC/opt/anaconda3/envs/PythonData/lib/python3.6/site-packages/ipykernel_launcher.py:2: SettingWithCopyWarning: \n",
      "A value is trying to be set on a copy of a slice from a DataFrame.\n",
      "Try using .loc[row_indexer,col_indexer] = value instead\n",
      "\n",
      "See the caveats in the documentation: https://pandas.pydata.org/pandas-docs/stable/user_guide/indexing.html#returning-a-view-versus-a-copy\n",
      "  \n"
     ]
    },
    {
     "data": {
      "text/plain": [
       "datetime64[ns, UTC]"
      ]
     },
     "execution_count": 15,
     "metadata": {},
     "output_type": "execute_result"
    }
   ],
   "source": [
    "# Convert issue_datetime from a string to a datetime object\n",
    "cleaned_df['issue_datetime'] = pd.to_datetime(cleaned_df['issue_datetime'])\n",
    "# Check converstion successfulness\n",
    "cleaned_df['issue_datetime'].dtype"
   ]
  },
  {
   "cell_type": "code",
   "execution_count": 16,
   "id": "chubby-therapy",
   "metadata": {},
   "outputs": [
    {
     "name": "stderr",
     "output_type": "stream",
     "text": [
      "/Users/ZTC/opt/anaconda3/envs/PythonData/lib/python3.6/site-packages/ipykernel_launcher.py:2: SettingWithCopyWarning: \n",
      "A value is trying to be set on a copy of a slice from a DataFrame.\n",
      "Try using .loc[row_indexer,col_indexer] = value instead\n",
      "\n",
      "See the caveats in the documentation: https://pandas.pydata.org/pandas-docs/stable/user_guide/indexing.html#returning-a-view-versus-a-copy\n",
      "  \n"
     ]
    },
    {
     "data": {
      "text/html": [
       "<div>\n",
       "<style scoped>\n",
       "    .dataframe tbody tr th:only-of-type {\n",
       "        vertical-align: middle;\n",
       "    }\n",
       "\n",
       "    .dataframe tbody tr th {\n",
       "        vertical-align: top;\n",
       "    }\n",
       "\n",
       "    .dataframe thead th {\n",
       "        text-align: right;\n",
       "    }\n",
       "</style>\n",
       "<table border=\"1\" class=\"dataframe\">\n",
       "  <thead>\n",
       "    <tr style=\"text-align: right;\">\n",
       "      <th></th>\n",
       "      <th>anon_ticket_number</th>\n",
       "      <th>issue_datetime</th>\n",
       "      <th>state</th>\n",
       "      <th>anon_plate_id</th>\n",
       "      <th>location</th>\n",
       "      <th>violation_desc</th>\n",
       "      <th>fine</th>\n",
       "      <th>issuing_agency</th>\n",
       "      <th>lat</th>\n",
       "      <th>lon</th>\n",
       "      <th>zip_code</th>\n",
       "    </tr>\n",
       "  </thead>\n",
       "  <tbody>\n",
       "    <tr>\n",
       "      <th>0</th>\n",
       "      <td>8979623</td>\n",
       "      <td>2017-12-06 12:29:00</td>\n",
       "      <td>PA</td>\n",
       "      <td>4728925</td>\n",
       "      <td>6053 CASTOR AVE</td>\n",
       "      <td>BUS ONLY ZONE</td>\n",
       "      <td>51</td>\n",
       "      <td>PPA</td>\n",
       "      <td>40.035503</td>\n",
       "      <td>-75.081110</td>\n",
       "      <td>19149</td>\n",
       "    </tr>\n",
       "    <tr>\n",
       "      <th>1</th>\n",
       "      <td>8979624</td>\n",
       "      <td>2017-10-16 18:03:00</td>\n",
       "      <td>PA</td>\n",
       "      <td>4728926</td>\n",
       "      <td>4300 CRESSON ST</td>\n",
       "      <td>STOPPING PROHIBITED</td>\n",
       "      <td>51</td>\n",
       "      <td>PPA</td>\n",
       "      <td>40.025712</td>\n",
       "      <td>-75.222495</td>\n",
       "      <td>19127</td>\n",
       "    </tr>\n",
       "    <tr>\n",
       "      <th>2</th>\n",
       "      <td>8979625</td>\n",
       "      <td>2017-11-02 22:09:00</td>\n",
       "      <td>PA</td>\n",
       "      <td>4728926</td>\n",
       "      <td>4300 CRESSON ST</td>\n",
       "      <td>OVER TIME LIMIT</td>\n",
       "      <td>26</td>\n",
       "      <td>PPA</td>\n",
       "      <td>40.025792</td>\n",
       "      <td>-75.222557</td>\n",
       "      <td>19127</td>\n",
       "    </tr>\n",
       "    <tr>\n",
       "      <th>3</th>\n",
       "      <td>8979626</td>\n",
       "      <td>2017-11-05 20:19:00</td>\n",
       "      <td>PA</td>\n",
       "      <td>4728926</td>\n",
       "      <td>4300 CRESSON ST</td>\n",
       "      <td>OVER TIME LIMIT</td>\n",
       "      <td>26</td>\n",
       "      <td>PPA</td>\n",
       "      <td>40.025898</td>\n",
       "      <td>-75.222708</td>\n",
       "      <td>19127</td>\n",
       "    </tr>\n",
       "    <tr>\n",
       "      <th>4</th>\n",
       "      <td>8979627</td>\n",
       "      <td>2017-11-11 13:53:00</td>\n",
       "      <td>NJ</td>\n",
       "      <td>4728927</td>\n",
       "      <td>200 N 11TH ST</td>\n",
       "      <td>METER EXPIRED CC</td>\n",
       "      <td>36</td>\n",
       "      <td>PPA</td>\n",
       "      <td>39.956063</td>\n",
       "      <td>-75.157375</td>\n",
       "      <td>19107</td>\n",
       "    </tr>\n",
       "  </tbody>\n",
       "</table>\n",
       "</div>"
      ],
      "text/plain": [
       "   anon_ticket_number      issue_datetime state anon_plate_id  \\\n",
       "0             8979623 2017-12-06 12:29:00    PA       4728925   \n",
       "1             8979624 2017-10-16 18:03:00    PA       4728926   \n",
       "2             8979625 2017-11-02 22:09:00    PA       4728926   \n",
       "3             8979626 2017-11-05 20:19:00    PA       4728926   \n",
       "4             8979627 2017-11-11 13:53:00    NJ       4728927   \n",
       "\n",
       "          location       violation_desc  fine issuing_agency        lat  \\\n",
       "0  6053 CASTOR AVE        BUS ONLY ZONE    51            PPA  40.035503   \n",
       "1  4300 CRESSON ST  STOPPING PROHIBITED    51            PPA  40.025712   \n",
       "2  4300 CRESSON ST      OVER TIME LIMIT    26            PPA  40.025792   \n",
       "3  4300 CRESSON ST      OVER TIME LIMIT    26            PPA  40.025898   \n",
       "4    200 N 11TH ST     METER EXPIRED CC    36            PPA  39.956063   \n",
       "\n",
       "         lon zip_code  \n",
       "0 -75.081110    19149  \n",
       "1 -75.222495    19127  \n",
       "2 -75.222557    19127  \n",
       "3 -75.222708    19127  \n",
       "4 -75.157375    19107  "
      ]
     },
     "execution_count": 16,
     "metadata": {},
     "output_type": "execute_result"
    }
   ],
   "source": [
    "# Remove timezone since this is strictly Phillly data \n",
    "cleaned_df['issue_datetime'] = cleaned_df['issue_datetime'].dt.tz_localize(None)\n",
    "cleaned_df.head()"
   ]
  },
  {
   "cell_type": "code",
   "execution_count": 17,
   "id": "frank-swift",
   "metadata": {},
   "outputs": [
    {
     "data": {
      "text/plain": [
       "anon_ticket_number             int64\n",
       "issue_datetime        datetime64[ns]\n",
       "state                         object\n",
       "anon_plate_id                 object\n",
       "location                      object\n",
       "violation_desc                object\n",
       "fine                           int64\n",
       "issuing_agency                object\n",
       "lat                          float64\n",
       "lon                          float64\n",
       "zip_code                      object\n",
       "dtype: object"
      ]
     },
     "execution_count": 17,
     "metadata": {},
     "output_type": "execute_result"
    }
   ],
   "source": [
    "cleaned_df.dtypes"
   ]
  },
  {
   "cell_type": "markdown",
   "id": "sitting-negotiation",
   "metadata": {},
   "source": [
    "### Since there is too much data this dataset, we will randomly select only a portion of it for the sake of this project. The rationale is to reduce load time for testing purposes and to shrink the size of the database to be uploaded to Github..."
   ]
  },
  {
   "cell_type": "code",
   "execution_count": 104,
   "id": "adverse-violation",
   "metadata": {},
   "outputs": [],
   "source": [
    "copied_df = cleaned_df.copy()\n",
    "copied_df['month'] = cleaned_df['issue_datetime'].dt.month"
   ]
  },
  {
   "cell_type": "markdown",
   "id": "powered-proof",
   "metadata": {},
   "source": [
    "##### In order to do this, we wanted to check how evenly the data is distributed over the months"
   ]
  },
  {
   "cell_type": "code",
   "execution_count": 105,
   "id": "retired-playing",
   "metadata": {},
   "outputs": [
    {
     "data": {
      "text/plain": [
       "8     132872\n",
       "10    131070\n",
       "9     125881\n",
       "11    125406\n",
       "5     124456\n",
       "3     122807\n",
       "6     120453\n",
       "4     118885\n",
       "1     110035\n",
       "7     109191\n",
       "2     108253\n",
       "12    104461\n",
       "Name: month, dtype: int64"
      ]
     },
     "execution_count": 105,
     "metadata": {},
     "output_type": "execute_result"
    }
   ],
   "source": [
    "copied_df['month'].value_counts()"
   ]
  },
  {
   "cell_type": "code",
   "execution_count": 106,
   "id": "single-warehouse",
   "metadata": {},
   "outputs": [],
   "source": [
    "# Since it looks like the data is distributed pretty evenly throughout the year, we decided to do a random\n",
    "# selection on the entire dataset. We will use pandas to sample 30% of our cleaned data.\n",
    "reduced_df = copied_df.sample(frac=0.3)"
   ]
  },
  {
   "cell_type": "code",
   "execution_count": 107,
   "id": "neutral-belief",
   "metadata": {},
   "outputs": [
    {
     "data": {
      "text/plain": [
       "8     39676\n",
       "10    39166\n",
       "9     37715\n",
       "11    37606\n",
       "5     37463\n",
       "3     36727\n",
       "6     36069\n",
       "4     35884\n",
       "1     33096\n",
       "7     32881\n",
       "2     32455\n",
       "12    31393\n",
       "Name: month, dtype: int64"
      ]
     },
     "execution_count": 107,
     "metadata": {},
     "output_type": "execute_result"
    }
   ],
   "source": [
    "# Check data distribution again\n",
    "reduced_df['month'].value_counts()"
   ]
  },
  {
   "cell_type": "markdown",
   "id": "living-modeling",
   "metadata": {},
   "source": [
    "##### More datetime manipulations and add additional columns for ease of use in sqlalchemy later"
   ]
  },
  {
   "cell_type": "code",
   "execution_count": 108,
   "id": "furnished-paper",
   "metadata": {},
   "outputs": [],
   "source": [
    "# Add a day column\n",
    "reduced_df['day'] = reduced_df['issue_datetime'].dt.day\n",
    "# Add an hour column\n",
    "reduced_df['hour'] = reduced_df['issue_datetime'].dt.hour"
   ]
  },
  {
   "cell_type": "code",
   "execution_count": 109,
   "id": "unexpected-equivalent",
   "metadata": {},
   "outputs": [],
   "source": [
    "# New datetime column used for parsing. Will be deleted later.\n",
    "reduced_df['issue_datetime_2'] = reduced_df['issue_datetime']\n",
    "reduced_df['issue_datetime_2'] = reduced_df['issue_datetime_2'].astype(str)"
   ]
  },
  {
   "cell_type": "code",
   "execution_count": 110,
   "id": "cordless-moderator",
   "metadata": {},
   "outputs": [],
   "source": [
    "# Add a year-month-day-hour identifier column. This will come in handy for our our analysis such as scatter plot\n",
    "ymdh = []\n",
    "\n",
    "for datetime in reduced_df['issue_datetime_2']:\n",
    "    ymdh.append(datetime.split(':')[0])\n",
    "    \n",
    "reduced_df['ymdh'] = ymdh"
   ]
  },
  {
   "cell_type": "code",
   "execution_count": 111,
   "id": "straight-suspect",
   "metadata": {},
   "outputs": [],
   "source": [
    "reduced_df = reduced_df.drop(columns='issue_datetime_2')"
   ]
  },
  {
   "cell_type": "code",
   "execution_count": 112,
   "id": "pressing-feeling",
   "metadata": {},
   "outputs": [
    {
     "data": {
      "text/plain": [
       "anon_ticket_number             int64\n",
       "issue_datetime        datetime64[ns]\n",
       "state                         object\n",
       "anon_plate_id                 object\n",
       "location                      object\n",
       "violation_desc                object\n",
       "fine                           int64\n",
       "issuing_agency                object\n",
       "lat                          float64\n",
       "lon                          float64\n",
       "zip_code                      object\n",
       "month                          int64\n",
       "day                            int64\n",
       "hour                           int64\n",
       "ymdh                          object\n",
       "dtype: object"
      ]
     },
     "execution_count": 112,
     "metadata": {},
     "output_type": "execute_result"
    }
   ],
   "source": [
    "# Check data types again\n",
    "reduced_df.dtypes"
   ]
  },
  {
   "cell_type": "code",
   "execution_count": 113,
   "id": "fresh-tucson",
   "metadata": {},
   "outputs": [],
   "source": [
    "# Sort by datetime and reset index\n",
    "final_df = reduced_df.sort_values(by='issue_datetime', ascending=True)\n",
    "final_df.reset_index(drop=True, inplace=True)"
   ]
  },
  {
   "cell_type": "code",
   "execution_count": 114,
   "id": "sophisticated-sport",
   "metadata": {},
   "outputs": [
    {
     "data": {
      "text/html": [
       "<div>\n",
       "<style scoped>\n",
       "    .dataframe tbody tr th:only-of-type {\n",
       "        vertical-align: middle;\n",
       "    }\n",
       "\n",
       "    .dataframe tbody tr th {\n",
       "        vertical-align: top;\n",
       "    }\n",
       "\n",
       "    .dataframe thead th {\n",
       "        text-align: right;\n",
       "    }\n",
       "</style>\n",
       "<table border=\"1\" class=\"dataframe\">\n",
       "  <thead>\n",
       "    <tr style=\"text-align: right;\">\n",
       "      <th></th>\n",
       "      <th>anon_ticket_number</th>\n",
       "      <th>issue_datetime</th>\n",
       "      <th>state</th>\n",
       "      <th>anon_plate_id</th>\n",
       "      <th>location</th>\n",
       "      <th>violation_desc</th>\n",
       "      <th>fine</th>\n",
       "      <th>issuing_agency</th>\n",
       "      <th>lat</th>\n",
       "      <th>lon</th>\n",
       "      <th>zip_code</th>\n",
       "      <th>month</th>\n",
       "      <th>day</th>\n",
       "      <th>hour</th>\n",
       "      <th>ymdh</th>\n",
       "    </tr>\n",
       "  </thead>\n",
       "  <tbody>\n",
       "    <tr>\n",
       "      <th>0</th>\n",
       "      <td>7695773</td>\n",
       "      <td>2017-01-01 00:00:00</td>\n",
       "      <td>PA</td>\n",
       "      <td>4340382</td>\n",
       "      <td>3131 N 7TH ST</td>\n",
       "      <td>HP RESERVED SPACE</td>\n",
       "      <td>301</td>\n",
       "      <td>POLICE</td>\n",
       "      <td>39.999414</td>\n",
       "      <td>-75.142332</td>\n",
       "      <td>19133</td>\n",
       "      <td>1</td>\n",
       "      <td>1</td>\n",
       "      <td>0</td>\n",
       "      <td>2017-01-01 00</td>\n",
       "    </tr>\n",
       "    <tr>\n",
       "      <th>1</th>\n",
       "      <td>7915128</td>\n",
       "      <td>2017-01-01 00:30:00</td>\n",
       "      <td>NJ</td>\n",
       "      <td>4420623</td>\n",
       "      <td>1747 N 17TH ST</td>\n",
       "      <td>PARKING PROHBITED</td>\n",
       "      <td>41</td>\n",
       "      <td>POLICE</td>\n",
       "      <td>39.980069</td>\n",
       "      <td>-75.162530</td>\n",
       "      <td>19121</td>\n",
       "      <td>1</td>\n",
       "      <td>1</td>\n",
       "      <td>0</td>\n",
       "      <td>2017-01-01 00</td>\n",
       "    </tr>\n",
       "    <tr>\n",
       "      <th>2</th>\n",
       "      <td>7806422</td>\n",
       "      <td>2017-01-01 01:00:00</td>\n",
       "      <td>PA</td>\n",
       "      <td>2418180</td>\n",
       "      <td>3100 STOUTON ST</td>\n",
       "      <td>SIDEWALK</td>\n",
       "      <td>51</td>\n",
       "      <td>POLICE</td>\n",
       "      <td>39.994725</td>\n",
       "      <td>-75.114731</td>\n",
       "      <td>19134</td>\n",
       "      <td>1</td>\n",
       "      <td>1</td>\n",
       "      <td>1</td>\n",
       "      <td>2017-01-01 01</td>\n",
       "    </tr>\n",
       "    <tr>\n",
       "      <th>3</th>\n",
       "      <td>7727051</td>\n",
       "      <td>2017-01-01 01:45:00</td>\n",
       "      <td>PA</td>\n",
       "      <td>1581609</td>\n",
       "      <td>4100 N 5TH ST</td>\n",
       "      <td>DOUBLE PARKED</td>\n",
       "      <td>51</td>\n",
       "      <td>POLICE</td>\n",
       "      <td>40.014261</td>\n",
       "      <td>-75.135362</td>\n",
       "      <td>19140</td>\n",
       "      <td>1</td>\n",
       "      <td>1</td>\n",
       "      <td>1</td>\n",
       "      <td>2017-01-01 01</td>\n",
       "    </tr>\n",
       "    <tr>\n",
       "      <th>4</th>\n",
       "      <td>8053935</td>\n",
       "      <td>2017-01-01 02:05:00</td>\n",
       "      <td>PA</td>\n",
       "      <td>1545498</td>\n",
       "      <td>4800 RORER ST</td>\n",
       "      <td>CORNER CLEARANCE</td>\n",
       "      <td>51</td>\n",
       "      <td>POLICE</td>\n",
       "      <td>40.022871</td>\n",
       "      <td>-75.114553</td>\n",
       "      <td>19120</td>\n",
       "      <td>1</td>\n",
       "      <td>1</td>\n",
       "      <td>2</td>\n",
       "      <td>2017-01-01 02</td>\n",
       "    </tr>\n",
       "    <tr>\n",
       "      <th>...</th>\n",
       "      <td>...</td>\n",
       "      <td>...</td>\n",
       "      <td>...</td>\n",
       "      <td>...</td>\n",
       "      <td>...</td>\n",
       "      <td>...</td>\n",
       "      <td>...</td>\n",
       "      <td>...</td>\n",
       "      <td>...</td>\n",
       "      <td>...</td>\n",
       "      <td>...</td>\n",
       "      <td>...</td>\n",
       "      <td>...</td>\n",
       "      <td>...</td>\n",
       "      <td>...</td>\n",
       "    </tr>\n",
       "    <tr>\n",
       "      <th>430126</th>\n",
       "      <td>9137143</td>\n",
       "      <td>2017-12-31 15:21:00</td>\n",
       "      <td>PA</td>\n",
       "      <td>2177729</td>\n",
       "      <td>3900 WALNUT ST</td>\n",
       "      <td>EXPIRED INSPECTION</td>\n",
       "      <td>41</td>\n",
       "      <td>PPA</td>\n",
       "      <td>39.953947</td>\n",
       "      <td>-75.200687</td>\n",
       "      <td>19104</td>\n",
       "      <td>12</td>\n",
       "      <td>31</td>\n",
       "      <td>15</td>\n",
       "      <td>2017-12-31 15</td>\n",
       "    </tr>\n",
       "    <tr>\n",
       "      <th>430127</th>\n",
       "      <td>9026154</td>\n",
       "      <td>2017-12-31 15:23:00</td>\n",
       "      <td>IN</td>\n",
       "      <td>4755706</td>\n",
       "      <td>500 SOUTH ST</td>\n",
       "      <td>STOP PROHIBITED CC</td>\n",
       "      <td>76</td>\n",
       "      <td>PPA</td>\n",
       "      <td>39.942040</td>\n",
       "      <td>-75.152243</td>\n",
       "      <td>19147</td>\n",
       "      <td>12</td>\n",
       "      <td>31</td>\n",
       "      <td>15</td>\n",
       "      <td>2017-12-31 15</td>\n",
       "    </tr>\n",
       "    <tr>\n",
       "      <th>430128</th>\n",
       "      <td>9034759</td>\n",
       "      <td>2017-12-31 15:26:00</td>\n",
       "      <td>NY</td>\n",
       "      <td>4760419</td>\n",
       "      <td>300 CHESTNUT ST</td>\n",
       "      <td>METER EXPIRED CC</td>\n",
       "      <td>36</td>\n",
       "      <td>PPA</td>\n",
       "      <td>39.948892</td>\n",
       "      <td>-75.147330</td>\n",
       "      <td>19106</td>\n",
       "      <td>12</td>\n",
       "      <td>31</td>\n",
       "      <td>15</td>\n",
       "      <td>2017-12-31 15</td>\n",
       "    </tr>\n",
       "    <tr>\n",
       "      <th>430129</th>\n",
       "      <td>9271232</td>\n",
       "      <td>2017-12-31 15:32:00</td>\n",
       "      <td>DE</td>\n",
       "      <td>4878557</td>\n",
       "      <td>400 SOUTH ST</td>\n",
       "      <td>METER EXPIRED CC</td>\n",
       "      <td>36</td>\n",
       "      <td>PPA</td>\n",
       "      <td>39.941738</td>\n",
       "      <td>-75.150227</td>\n",
       "      <td>19147</td>\n",
       "      <td>12</td>\n",
       "      <td>31</td>\n",
       "      <td>15</td>\n",
       "      <td>2017-12-31 15</td>\n",
       "    </tr>\n",
       "    <tr>\n",
       "      <th>430130</th>\n",
       "      <td>9036378</td>\n",
       "      <td>2017-12-31 15:33:00</td>\n",
       "      <td>NY</td>\n",
       "      <td>4761373</td>\n",
       "      <td>1 S FRONT ST</td>\n",
       "      <td>METER EXPIRED CC</td>\n",
       "      <td>36</td>\n",
       "      <td>PPA</td>\n",
       "      <td>39.948747</td>\n",
       "      <td>-75.142292</td>\n",
       "      <td>19106</td>\n",
       "      <td>12</td>\n",
       "      <td>31</td>\n",
       "      <td>15</td>\n",
       "      <td>2017-12-31 15</td>\n",
       "    </tr>\n",
       "  </tbody>\n",
       "</table>\n",
       "<p>430131 rows × 15 columns</p>\n",
       "</div>"
      ],
      "text/plain": [
       "        anon_ticket_number      issue_datetime state anon_plate_id  \\\n",
       "0                  7695773 2017-01-01 00:00:00    PA       4340382   \n",
       "1                  7915128 2017-01-01 00:30:00    NJ       4420623   \n",
       "2                  7806422 2017-01-01 01:00:00    PA       2418180   \n",
       "3                  7727051 2017-01-01 01:45:00    PA       1581609   \n",
       "4                  8053935 2017-01-01 02:05:00    PA       1545498   \n",
       "...                    ...                 ...   ...           ...   \n",
       "430126             9137143 2017-12-31 15:21:00    PA       2177729   \n",
       "430127             9026154 2017-12-31 15:23:00    IN       4755706   \n",
       "430128             9034759 2017-12-31 15:26:00    NY       4760419   \n",
       "430129             9271232 2017-12-31 15:32:00    DE       4878557   \n",
       "430130             9036378 2017-12-31 15:33:00    NY       4761373   \n",
       "\n",
       "               location      violation_desc  fine issuing_agency        lat  \\\n",
       "0         3131 N 7TH ST   HP RESERVED SPACE   301         POLICE  39.999414   \n",
       "1        1747 N 17TH ST   PARKING PROHBITED    41         POLICE  39.980069   \n",
       "2       3100 STOUTON ST            SIDEWALK    51         POLICE  39.994725   \n",
       "3         4100 N 5TH ST       DOUBLE PARKED    51         POLICE  40.014261   \n",
       "4         4800 RORER ST    CORNER CLEARANCE    51         POLICE  40.022871   \n",
       "...                 ...                 ...   ...            ...        ...   \n",
       "430126   3900 WALNUT ST  EXPIRED INSPECTION    41            PPA  39.953947   \n",
       "430127     500 SOUTH ST  STOP PROHIBITED CC    76            PPA  39.942040   \n",
       "430128  300 CHESTNUT ST    METER EXPIRED CC    36            PPA  39.948892   \n",
       "430129     400 SOUTH ST    METER EXPIRED CC    36            PPA  39.941738   \n",
       "430130     1 S FRONT ST    METER EXPIRED CC    36            PPA  39.948747   \n",
       "\n",
       "              lon zip_code  month  day  hour           ymdh  \n",
       "0      -75.142332    19133      1    1     0  2017-01-01 00  \n",
       "1      -75.162530    19121      1    1     0  2017-01-01 00  \n",
       "2      -75.114731    19134      1    1     1  2017-01-01 01  \n",
       "3      -75.135362    19140      1    1     1  2017-01-01 01  \n",
       "4      -75.114553    19120      1    1     2  2017-01-01 02  \n",
       "...           ...      ...    ...  ...   ...            ...  \n",
       "430126 -75.200687    19104     12   31    15  2017-12-31 15  \n",
       "430127 -75.152243    19147     12   31    15  2017-12-31 15  \n",
       "430128 -75.147330    19106     12   31    15  2017-12-31 15  \n",
       "430129 -75.150227    19147     12   31    15  2017-12-31 15  \n",
       "430130 -75.142292    19106     12   31    15  2017-12-31 15  \n",
       "\n",
       "[430131 rows x 15 columns]"
      ]
     },
     "execution_count": 114,
     "metadata": {},
     "output_type": "execute_result"
    }
   ],
   "source": [
    "# Inspect\n",
    "final_df"
   ]
  },
  {
   "cell_type": "code",
   "execution_count": 115,
   "id": "exceptional-texture",
   "metadata": {},
   "outputs": [],
   "source": [
    "# Export dataset before reduce for reference to CSV\n",
    "# cleaned_df.to_csv('../resources/cleaned_data/cleaned_parking_violations_2017.csv', index=False)"
   ]
  },
  {
   "cell_type": "code",
   "execution_count": 116,
   "id": "pharmaceutical-brown",
   "metadata": {},
   "outputs": [],
   "source": [
    "# Export dataset after reduce to CSV \n",
    "final_df.to_csv('../resources/cleaned_data/cleaned_reduced_parking_violations_2017.csv', index=False)"
   ]
  },
  {
   "cell_type": "code",
   "execution_count": null,
   "id": "informal-strengthening",
   "metadata": {},
   "outputs": [],
   "source": []
  }
 ],
 "metadata": {
  "kernelspec": {
   "display_name": "Python [conda env:PythonData] *",
   "language": "python",
   "name": "conda-env-PythonData-py"
  },
  "language_info": {
   "codemirror_mode": {
    "name": "ipython",
    "version": 3
   },
   "file_extension": ".py",
   "mimetype": "text/x-python",
   "name": "python",
   "nbconvert_exporter": "python",
   "pygments_lexer": "ipython3",
   "version": "3.6.10"
  }
 },
 "nbformat": 4,
 "nbformat_minor": 5
}
